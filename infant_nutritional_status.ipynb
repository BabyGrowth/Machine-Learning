{
  "nbformat": 4,
  "nbformat_minor": 0,
  "metadata": {
    "colab": {
      "provenance": []
    },
    "kernelspec": {
      "name": "python3",
      "display_name": "Python 3"
    },
    "language_info": {
      "name": "python"
    }
  },
  "cells": [
    {
      "cell_type": "markdown",
      "source": [
        "#Environment Setting"
      ],
      "metadata": {
        "id": "Ivd_01MvYs3y"
      }
    },
    {
      "cell_type": "code",
      "execution_count": 16,
      "metadata": {
        "id": "UigtakPmQ8pF"
      },
      "outputs": [],
      "source": [
        "import pandas as pd\n",
        "import csv"
      ]
    },
    {
      "cell_type": "markdown",
      "source": [
        "#Code"
      ],
      "metadata": {
        "id": "nNkmryhD1BZh"
      }
    },
    {
      "cell_type": "markdown",
      "source": [
        "Define and adjust the function of the dataset"
      ],
      "metadata": {
        "id": "BLtJoxZP1Xle"
      }
    },
    {
      "cell_type": "code",
      "source": [
        "def calculate_z_score(value, gender, measurement_type, age):\n",
        "    csv_file = f\"{gender}_{measurement_type}.csv\"\n",
        "    z_score_data = pd.read_csv(csv_file, sep=';')\n",
        "\n",
        "    z_score_row = z_score_data[z_score_data['Month'] == age]\n",
        "    if not z_score_row.empty:\n",
        "      z_score = z_score_row[(z_score_data['Month'] == age)][['-3 SD', '-2 SD', '-1 SD', 'Median', '1 SD', '2 SD', '3 SD']].values[0]\n",
        "\n",
        "    if value < z_score[0]:\n",
        "        return 'severe'\n",
        "    elif value < z_score[1]:\n",
        "        return 'moderate'\n",
        "    else:\n",
        "        return 'normal'"
      ],
      "metadata": {
        "id": "wemuwHM01GD9"
      },
      "execution_count": 33,
      "outputs": []
    },
    {
      "cell_type": "markdown",
      "source": [
        "Adjust the inputted data with the *World Health Organization* (WHO) standards."
      ],
      "metadata": {
        "id": "GHnQBLzA1t7J"
      }
    },
    {
      "cell_type": "code",
      "source": [
        "def classify_nutritional_status(infant_data):\n",
        "    # Extract information from the input data\n",
        "    age = infant_data['age']\n",
        "    gender = infant_data['gender']\n",
        "    height = infant_data['height']\n",
        "    weight = infant_data['weight']\n",
        "    head_circumference = infant_data['head_circumference']\n",
        "    arm_length = infant_data['arm_length']\n",
        "\n",
        "    # Calculate z-scores for each measurement\n",
        "    height_status = calculate_z_score(height, gender, 'height', age)\n",
        "    weight_status = calculate_z_score(weight, gender, 'weight', age)\n",
        "    head_status = calculate_z_score(head_circumference, gender, 'head', age)\n",
        "    arm_status = calculate_z_score(arm_length, gender, 'arm', age)\n",
        "\n",
        "    # Classify nutritional status based on z-scores\n",
        "    nutritional_status = {\n",
        "        'Stunted': 'Severely Stunted' if height_status == 'severe' else 'Moderately Stunted' if height_status == 'moderate' else 'No',\n",
        "        'Wasted': 'Severely Wasted' if weight_status == 'severe' else 'Moderately Wasted' if weight_status == 'moderate' else 'No',\n",
        "        'Overweight': 'Overweight' if weight_status == 'normal' and height_status == 'normal' else 'No',\n",
        "        'Underweight': 'Severely Underweight' if weight_status == 'severe' else 'Moderately Underweight' if weight_status == 'moderate' else 'No',\n",
        "    }\n",
        "\n",
        "    return nutritional_status"
      ],
      "metadata": {
        "id": "7_CHDm4O1VBY"
      },
      "execution_count": 36,
      "outputs": []
    },
    {
      "cell_type": "markdown",
      "source": [
        "Data input, creating dictionary, and output"
      ],
      "metadata": {
        "id": "lTsIXjUk9O5n"
      }
    },
    {
      "cell_type": "code",
      "source": [
        "age = int(input(\"Enter infant age (months): \"))\n",
        "gender = input(\"Enter infant gender (L for male, P for female): \").upper()\n",
        "height = float(input(\"Enter infant height (cm): \"))\n",
        "weight = float(input(\"Enter infant weight (kg): \"))\n",
        "head_circumference = float(input(\"Enter infant head circumference (cm): \"))\n",
        "arm_length = float(input(\"Enter infant arm length (cm): \"))\n",
        "\n",
        "infant_data = {\n",
        "    'age': age,\n",
        "    'gender': gender,\n",
        "    'height': height,\n",
        "    'weight': weight,\n",
        "    'head_circumference': head_circumference,\n",
        "    'arm_length': arm_length,\n",
        "}\n",
        "\n",
        "print(\"\\nNutritional Status:\")\n",
        "for category, status in result.items():\n",
        "    print(f'{category}: {status}')"
      ],
      "metadata": {
        "colab": {
          "base_uri": "https://localhost:8080/"
        },
        "id": "B-txTz9w9RN4",
        "outputId": "282a5e7f-aeca-44f9-d05f-7a38e814f041"
      },
      "execution_count": 37,
      "outputs": [
        {
          "output_type": "stream",
          "name": "stdout",
          "text": [
            "Enter infant age (months): 19\n",
            "Enter infant gender (L for male, P for female): P\n",
            "Enter infant height (cm): 17\n",
            "Enter infant weight (kg): 1\n",
            "Enter infant head circumference (cm): 2\n",
            "Enter infant arm length (cm): 28\n",
            "\n",
            "Nutritional Status:\n",
            "Stunted: Good Condition\n",
            "Wasted: Good Condition\n",
            "Overweight: Overweight\n",
            "Underweight: Good Condition\n"
          ]
        }
      ]
    }
  ]
}